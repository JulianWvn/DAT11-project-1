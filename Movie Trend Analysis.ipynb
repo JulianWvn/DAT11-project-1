{
 "cells": [
  {
   "cell_type": "markdown",
   "metadata": {},
   "source": [
    "# Movie Trend Analysis\n",
    "\n",
    "**Authors:** Julian Wivina\n",
    "***"
   ]
  },
  {
   "cell_type": "markdown",
   "metadata": {},
   "source": [
    "## Overview\n",
    "\n",
    "This project aims to analyse the most successful movie genres according to a number of variables. To generate good insights, I examine movie data for any trends so as to generate recommendations for Microsoft's planned movie studio."
   ]
  },
  {
   "cell_type": "markdown",
   "metadata": {},
   "source": [
    "## Business Problem\n",
    "\n",
    "Microsoft is looking to break into the movie industry and requires business recommendations about what films are doing well in the box office. I explore the average ratings and gross figures for genres of movies and further analyse how important each variable is."
   ]
  },
  {
   "cell_type": "code",
   "execution_count": 495,
   "metadata": {},
   "outputs": [],
   "source": [
    "# Import standard packages\n",
    "import pandas as pd\n",
    "import numpy as np\n",
    "import matplotlib.pyplot as plt\n",
    "import seaborn as sns\n",
    "\n",
    "%matplotlib inline"
   ]
  },
  {
   "cell_type": "markdown",
   "metadata": {},
   "source": [
    "## Data Understanding"
   ]
  },
  {
   "cell_type": "markdown",
   "metadata": {},
   "source": [
    "Domestic and foreign gross figures for movies according from Box Office Mojo."
   ]
  },
  {
   "cell_type": "code",
   "execution_count": 536,
   "metadata": {
    "scrolled": true
   },
   "outputs": [
    {
     "data": {
      "text/html": [
       "<div>\n",
       "<style scoped>\n",
       "    .dataframe tbody tr th:only-of-type {\n",
       "        vertical-align: middle;\n",
       "    }\n",
       "\n",
       "    .dataframe tbody tr th {\n",
       "        vertical-align: top;\n",
       "    }\n",
       "\n",
       "    .dataframe thead th {\n",
       "        text-align: right;\n",
       "    }\n",
       "</style>\n",
       "<table border=\"1\" class=\"dataframe\">\n",
       "  <thead>\n",
       "    <tr style=\"text-align: right;\">\n",
       "      <th></th>\n",
       "      <th>studio</th>\n",
       "      <th>domestic_gross</th>\n",
       "      <th>foreign_gross</th>\n",
       "      <th>year</th>\n",
       "    </tr>\n",
       "    <tr>\n",
       "      <th>primary_title</th>\n",
       "      <th></th>\n",
       "      <th></th>\n",
       "      <th></th>\n",
       "      <th></th>\n",
       "    </tr>\n",
       "  </thead>\n",
       "  <tbody>\n",
       "    <tr>\n",
       "      <th>Toy Story 3</th>\n",
       "      <td>BV</td>\n",
       "      <td>415000000.0</td>\n",
       "      <td>652000000</td>\n",
       "      <td>2010</td>\n",
       "    </tr>\n",
       "    <tr>\n",
       "      <th>Alice in Wonderland (2010)</th>\n",
       "      <td>BV</td>\n",
       "      <td>334200000.0</td>\n",
       "      <td>691300000</td>\n",
       "      <td>2010</td>\n",
       "    </tr>\n",
       "    <tr>\n",
       "      <th>Harry Potter and the Deathly Hallows Part 1</th>\n",
       "      <td>WB</td>\n",
       "      <td>296000000.0</td>\n",
       "      <td>664300000</td>\n",
       "      <td>2010</td>\n",
       "    </tr>\n",
       "    <tr>\n",
       "      <th>Inception</th>\n",
       "      <td>WB</td>\n",
       "      <td>292600000.0</td>\n",
       "      <td>535700000</td>\n",
       "      <td>2010</td>\n",
       "    </tr>\n",
       "    <tr>\n",
       "      <th>Shrek Forever After</th>\n",
       "      <td>P/DW</td>\n",
       "      <td>238700000.0</td>\n",
       "      <td>513900000</td>\n",
       "      <td>2010</td>\n",
       "    </tr>\n",
       "  </tbody>\n",
       "</table>\n",
       "</div>"
      ],
      "text/plain": [
       "                                            studio  domestic_gross  \\\n",
       "primary_title                                                        \n",
       "Toy Story 3                                     BV     415000000.0   \n",
       "Alice in Wonderland (2010)                      BV     334200000.0   \n",
       "Harry Potter and the Deathly Hallows Part 1     WB     296000000.0   \n",
       "Inception                                       WB     292600000.0   \n",
       "Shrek Forever After                           P/DW     238700000.0   \n",
       "\n",
       "                                            foreign_gross  year  \n",
       "primary_title                                                    \n",
       "Toy Story 3                                     652000000  2010  \n",
       "Alice in Wonderland (2010)                      691300000  2010  \n",
       "Harry Potter and the Deathly Hallows Part 1     664300000  2010  \n",
       "Inception                                       535700000  2010  \n",
       "Shrek Forever After                             513900000  2010  "
      ]
     },
     "execution_count": 536,
     "metadata": {},
     "output_type": "execute_result"
    }
   ],
   "source": [
    "movie_gross = pd.read_csv('ZippedData/bom.movie_gross.csv.gz')\n",
    "movie_gross = movie_gross.rename(columns = {'title': 'primary_title'})\n",
    "movie_gross.set_index('primary_title', inplace=True)\n",
    "movie_gross.head()"
   ]
  },
  {
   "cell_type": "markdown",
   "metadata": {},
   "source": [
    "Data from IMDB containing average ratings and genres for movies."
   ]
  },
  {
   "cell_type": "code",
   "execution_count": 710,
   "metadata": {
    "scrolled": false
   },
   "outputs": [
    {
     "data": {
      "text/html": [
       "<div>\n",
       "<style scoped>\n",
       "    .dataframe tbody tr th:only-of-type {\n",
       "        vertical-align: middle;\n",
       "    }\n",
       "\n",
       "    .dataframe tbody tr th {\n",
       "        vertical-align: top;\n",
       "    }\n",
       "\n",
       "    .dataframe thead th {\n",
       "        text-align: right;\n",
       "    }\n",
       "</style>\n",
       "<table border=\"1\" class=\"dataframe\">\n",
       "  <thead>\n",
       "    <tr style=\"text-align: right;\">\n",
       "      <th></th>\n",
       "      <th>averagerating</th>\n",
       "      <th>numvotes</th>\n",
       "    </tr>\n",
       "    <tr>\n",
       "      <th>tconst</th>\n",
       "      <th></th>\n",
       "      <th></th>\n",
       "    </tr>\n",
       "  </thead>\n",
       "  <tbody>\n",
       "    <tr>\n",
       "      <th>tt10356526</th>\n",
       "      <td>8.3</td>\n",
       "      <td>31</td>\n",
       "    </tr>\n",
       "    <tr>\n",
       "      <th>tt10384606</th>\n",
       "      <td>8.9</td>\n",
       "      <td>559</td>\n",
       "    </tr>\n",
       "    <tr>\n",
       "      <th>tt1042974</th>\n",
       "      <td>6.4</td>\n",
       "      <td>20</td>\n",
       "    </tr>\n",
       "    <tr>\n",
       "      <th>tt1043726</th>\n",
       "      <td>4.2</td>\n",
       "      <td>50352</td>\n",
       "    </tr>\n",
       "    <tr>\n",
       "      <th>tt1060240</th>\n",
       "      <td>6.5</td>\n",
       "      <td>21</td>\n",
       "    </tr>\n",
       "  </tbody>\n",
       "</table>\n",
       "</div>"
      ],
      "text/plain": [
       "            averagerating  numvotes\n",
       "tconst                             \n",
       "tt10356526            8.3        31\n",
       "tt10384606            8.9       559\n",
       "tt1042974             6.4        20\n",
       "tt1043726             4.2     50352\n",
       "tt1060240             6.5        21"
      ]
     },
     "execution_count": 710,
     "metadata": {},
     "output_type": "execute_result"
    }
   ],
   "source": [
    "title_ratings = pd.read_csv('zippedData/imdb.title.ratings.csv.gz')\n",
    "title_ratings.set_index('tconst', inplace=True)\n",
    "title_ratings.head()"
   ]
  },
  {
   "cell_type": "code",
   "execution_count": 498,
   "metadata": {
    "scrolled": true
   },
   "outputs": [
    {
     "data": {
      "text/html": [
       "<div>\n",
       "<style scoped>\n",
       "    .dataframe tbody tr th:only-of-type {\n",
       "        vertical-align: middle;\n",
       "    }\n",
       "\n",
       "    .dataframe tbody tr th {\n",
       "        vertical-align: top;\n",
       "    }\n",
       "\n",
       "    .dataframe thead th {\n",
       "        text-align: right;\n",
       "    }\n",
       "</style>\n",
       "<table border=\"1\" class=\"dataframe\">\n",
       "  <thead>\n",
       "    <tr style=\"text-align: right;\">\n",
       "      <th></th>\n",
       "      <th>primary_title</th>\n",
       "      <th>original_title</th>\n",
       "      <th>start_year</th>\n",
       "      <th>runtime_minutes</th>\n",
       "      <th>genres</th>\n",
       "    </tr>\n",
       "    <tr>\n",
       "      <th>tconst</th>\n",
       "      <th></th>\n",
       "      <th></th>\n",
       "      <th></th>\n",
       "      <th></th>\n",
       "      <th></th>\n",
       "    </tr>\n",
       "  </thead>\n",
       "  <tbody>\n",
       "    <tr>\n",
       "      <th>tt0063540</th>\n",
       "      <td>Sunghursh</td>\n",
       "      <td>Sunghursh</td>\n",
       "      <td>2013</td>\n",
       "      <td>175.0</td>\n",
       "      <td>Action,Crime,Drama</td>\n",
       "    </tr>\n",
       "    <tr>\n",
       "      <th>tt0066787</th>\n",
       "      <td>One Day Before the Rainy Season</td>\n",
       "      <td>Ashad Ka Ek Din</td>\n",
       "      <td>2019</td>\n",
       "      <td>114.0</td>\n",
       "      <td>Biography,Drama</td>\n",
       "    </tr>\n",
       "    <tr>\n",
       "      <th>tt0069049</th>\n",
       "      <td>The Other Side of the Wind</td>\n",
       "      <td>The Other Side of the Wind</td>\n",
       "      <td>2018</td>\n",
       "      <td>122.0</td>\n",
       "      <td>Drama</td>\n",
       "    </tr>\n",
       "    <tr>\n",
       "      <th>tt0069204</th>\n",
       "      <td>Sabse Bada Sukh</td>\n",
       "      <td>Sabse Bada Sukh</td>\n",
       "      <td>2018</td>\n",
       "      <td>NaN</td>\n",
       "      <td>Comedy,Drama</td>\n",
       "    </tr>\n",
       "    <tr>\n",
       "      <th>tt0100275</th>\n",
       "      <td>The Wandering Soap Opera</td>\n",
       "      <td>La Telenovela Errante</td>\n",
       "      <td>2017</td>\n",
       "      <td>80.0</td>\n",
       "      <td>Comedy,Drama,Fantasy</td>\n",
       "    </tr>\n",
       "  </tbody>\n",
       "</table>\n",
       "</div>"
      ],
      "text/plain": [
       "                             primary_title              original_title  \\\n",
       "tconst                                                                   \n",
       "tt0063540                        Sunghursh                   Sunghursh   \n",
       "tt0066787  One Day Before the Rainy Season             Ashad Ka Ek Din   \n",
       "tt0069049       The Other Side of the Wind  The Other Side of the Wind   \n",
       "tt0069204                  Sabse Bada Sukh             Sabse Bada Sukh   \n",
       "tt0100275         The Wandering Soap Opera       La Telenovela Errante   \n",
       "\n",
       "           start_year  runtime_minutes                genres  \n",
       "tconst                                                        \n",
       "tt0063540        2013            175.0    Action,Crime,Drama  \n",
       "tt0066787        2019            114.0       Biography,Drama  \n",
       "tt0069049        2018            122.0                 Drama  \n",
       "tt0069204        2018              NaN          Comedy,Drama  \n",
       "tt0100275        2017             80.0  Comedy,Drama,Fantasy  "
      ]
     },
     "execution_count": 498,
     "metadata": {},
     "output_type": "execute_result"
    }
   ],
   "source": [
    "title_basics = pd.read_csv('zippedData/imdb.title.basics.csv.gz')\n",
    "title_basics.set_index('tconst', inplace=True)\n",
    "title_basics.head()"
   ]
  },
  {
   "cell_type": "markdown",
   "metadata": {},
   "source": [
    "Information from IMDB containing notable people who worked on each movie."
   ]
  },
  {
   "cell_type": "code",
   "execution_count": 537,
   "metadata": {},
   "outputs": [
    {
     "data": {
      "text/html": [
       "<div>\n",
       "<style scoped>\n",
       "    .dataframe tbody tr th:only-of-type {\n",
       "        vertical-align: middle;\n",
       "    }\n",
       "\n",
       "    .dataframe tbody tr th {\n",
       "        vertical-align: top;\n",
       "    }\n",
       "\n",
       "    .dataframe thead th {\n",
       "        text-align: right;\n",
       "    }\n",
       "</style>\n",
       "<table border=\"1\" class=\"dataframe\">\n",
       "  <thead>\n",
       "    <tr style=\"text-align: right;\">\n",
       "      <th></th>\n",
       "      <th>primary_name</th>\n",
       "      <th>birth_year</th>\n",
       "      <th>death_year</th>\n",
       "      <th>primary_profession</th>\n",
       "      <th>known_for_titles</th>\n",
       "    </tr>\n",
       "    <tr>\n",
       "      <th>nconst</th>\n",
       "      <th></th>\n",
       "      <th></th>\n",
       "      <th></th>\n",
       "      <th></th>\n",
       "      <th></th>\n",
       "    </tr>\n",
       "  </thead>\n",
       "  <tbody>\n",
       "    <tr>\n",
       "      <th>nm0061671</th>\n",
       "      <td>Mary Ellen Bauder</td>\n",
       "      <td>NaN</td>\n",
       "      <td>NaN</td>\n",
       "      <td>miscellaneous,production_manager,producer</td>\n",
       "      <td>tt0837562,tt2398241,tt0844471,tt0118553</td>\n",
       "    </tr>\n",
       "    <tr>\n",
       "      <th>nm0061865</th>\n",
       "      <td>Joseph Bauer</td>\n",
       "      <td>NaN</td>\n",
       "      <td>NaN</td>\n",
       "      <td>composer,music_department,sound_department</td>\n",
       "      <td>tt0896534,tt6791238,tt0287072,tt1682940</td>\n",
       "    </tr>\n",
       "    <tr>\n",
       "      <th>nm0062070</th>\n",
       "      <td>Bruce Baum</td>\n",
       "      <td>NaN</td>\n",
       "      <td>NaN</td>\n",
       "      <td>miscellaneous,actor,writer</td>\n",
       "      <td>tt1470654,tt0363631,tt0104030,tt0102898</td>\n",
       "    </tr>\n",
       "    <tr>\n",
       "      <th>nm0062195</th>\n",
       "      <td>Axel Baumann</td>\n",
       "      <td>NaN</td>\n",
       "      <td>NaN</td>\n",
       "      <td>camera_department,cinematographer,art_department</td>\n",
       "      <td>tt0114371,tt2004304,tt1618448,tt1224387</td>\n",
       "    </tr>\n",
       "    <tr>\n",
       "      <th>nm0062798</th>\n",
       "      <td>Pete Baxter</td>\n",
       "      <td>NaN</td>\n",
       "      <td>NaN</td>\n",
       "      <td>production_designer,art_department,set_decorator</td>\n",
       "      <td>tt0452644,tt0452692,tt3458030,tt2178256</td>\n",
       "    </tr>\n",
       "  </tbody>\n",
       "</table>\n",
       "</div>"
      ],
      "text/plain": [
       "                primary_name  birth_year  death_year  \\\n",
       "nconst                                                 \n",
       "nm0061671  Mary Ellen Bauder         NaN         NaN   \n",
       "nm0061865       Joseph Bauer         NaN         NaN   \n",
       "nm0062070         Bruce Baum         NaN         NaN   \n",
       "nm0062195       Axel Baumann         NaN         NaN   \n",
       "nm0062798        Pete Baxter         NaN         NaN   \n",
       "\n",
       "                                         primary_profession  \\\n",
       "nconst                                                        \n",
       "nm0061671         miscellaneous,production_manager,producer   \n",
       "nm0061865        composer,music_department,sound_department   \n",
       "nm0062070                        miscellaneous,actor,writer   \n",
       "nm0062195  camera_department,cinematographer,art_department   \n",
       "nm0062798  production_designer,art_department,set_decorator   \n",
       "\n",
       "                                  known_for_titles  \n",
       "nconst                                              \n",
       "nm0061671  tt0837562,tt2398241,tt0844471,tt0118553  \n",
       "nm0061865  tt0896534,tt6791238,tt0287072,tt1682940  \n",
       "nm0062070  tt1470654,tt0363631,tt0104030,tt0102898  \n",
       "nm0062195  tt0114371,tt2004304,tt1618448,tt1224387  \n",
       "nm0062798  tt0452644,tt0452692,tt3458030,tt2178256  "
      ]
     },
     "execution_count": 537,
     "metadata": {},
     "output_type": "execute_result"
    }
   ],
   "source": [
    "crew_id = pd.read_csv('zippedData/imdb.name.basics.csv.gz')\n",
    "crew_id.set_index('nconst', inplace=True)\n",
    "crew_id.head()"
   ]
  },
  {
   "cell_type": "code",
   "execution_count": 538,
   "metadata": {},
   "outputs": [
    {
     "data": {
      "text/html": [
       "<div>\n",
       "<style scoped>\n",
       "    .dataframe tbody tr th:only-of-type {\n",
       "        vertical-align: middle;\n",
       "    }\n",
       "\n",
       "    .dataframe tbody tr th {\n",
       "        vertical-align: top;\n",
       "    }\n",
       "\n",
       "    .dataframe thead th {\n",
       "        text-align: right;\n",
       "    }\n",
       "</style>\n",
       "<table border=\"1\" class=\"dataframe\">\n",
       "  <thead>\n",
       "    <tr style=\"text-align: right;\">\n",
       "      <th></th>\n",
       "      <th>tconst</th>\n",
       "      <th>writers</th>\n",
       "    </tr>\n",
       "    <tr>\n",
       "      <th>nconst</th>\n",
       "      <th></th>\n",
       "      <th></th>\n",
       "    </tr>\n",
       "  </thead>\n",
       "  <tbody>\n",
       "    <tr>\n",
       "      <th>nm0899854</th>\n",
       "      <td>tt0285252</td>\n",
       "      <td>nm0899854</td>\n",
       "    </tr>\n",
       "    <tr>\n",
       "      <th>NaN</th>\n",
       "      <td>tt0438973</td>\n",
       "      <td>nm0175726,nm1802864</td>\n",
       "    </tr>\n",
       "    <tr>\n",
       "      <th>nm1940585</th>\n",
       "      <td>tt0462036</td>\n",
       "      <td>nm1940585</td>\n",
       "    </tr>\n",
       "    <tr>\n",
       "      <th>nm0151540</th>\n",
       "      <td>tt0835418</td>\n",
       "      <td>nm0310087,nm0841532</td>\n",
       "    </tr>\n",
       "    <tr>\n",
       "      <th>nm0089502,nm2291498,nm2292011</th>\n",
       "      <td>tt0878654</td>\n",
       "      <td>nm0284943</td>\n",
       "    </tr>\n",
       "  </tbody>\n",
       "</table>\n",
       "</div>"
      ],
      "text/plain": [
       "                                  tconst              writers\n",
       "nconst                                                       \n",
       "nm0899854                      tt0285252            nm0899854\n",
       "NaN                            tt0438973  nm0175726,nm1802864\n",
       "nm1940585                      tt0462036            nm1940585\n",
       "nm0151540                      tt0835418  nm0310087,nm0841532\n",
       "nm0089502,nm2291498,nm2292011  tt0878654            nm0284943"
      ]
     },
     "execution_count": 538,
     "metadata": {},
     "output_type": "execute_result"
    }
   ],
   "source": [
    "crew_name = pd.read_csv('zippedData/imdb.title.crew.csv.gz')\n",
    "crew_name = crew_name.rename(columns ={'directors': 'nconst'})\n",
    "crew_name.set_index('nconst', inplace=True )\n",
    "crew_name.head()"
   ]
  },
  {
   "cell_type": "markdown",
   "metadata": {},
   "source": [
    "## Data preparation"
   ]
  },
  {
   "cell_type": "code",
   "execution_count": 717,
   "metadata": {
    "scrolled": false
   },
   "outputs": [
    {
     "data": {
      "text/html": [
       "<div>\n",
       "<style scoped>\n",
       "    .dataframe tbody tr th:only-of-type {\n",
       "        vertical-align: middle;\n",
       "    }\n",
       "\n",
       "    .dataframe tbody tr th {\n",
       "        vertical-align: top;\n",
       "    }\n",
       "\n",
       "    .dataframe thead th {\n",
       "        text-align: right;\n",
       "    }\n",
       "</style>\n",
       "<table border=\"1\" class=\"dataframe\">\n",
       "  <thead>\n",
       "    <tr style=\"text-align: right;\">\n",
       "      <th></th>\n",
       "      <th>averagerating</th>\n",
       "      <th>numvotes</th>\n",
       "      <th>start_year</th>\n",
       "      <th>runtime_minutes</th>\n",
       "      <th>genres</th>\n",
       "      <th>primary_name</th>\n",
       "      <th>studio</th>\n",
       "      <th>domestic_gross</th>\n",
       "      <th>foreign_gross</th>\n",
       "      <th>year</th>\n",
       "    </tr>\n",
       "    <tr>\n",
       "      <th>primary_title</th>\n",
       "      <th></th>\n",
       "      <th></th>\n",
       "      <th></th>\n",
       "      <th></th>\n",
       "      <th></th>\n",
       "      <th></th>\n",
       "      <th></th>\n",
       "      <th></th>\n",
       "      <th></th>\n",
       "      <th></th>\n",
       "    </tr>\n",
       "  </thead>\n",
       "  <tbody>\n",
       "    <tr>\n",
       "      <th>'71</th>\n",
       "      <td>7.2</td>\n",
       "      <td>46103</td>\n",
       "      <td>2014</td>\n",
       "      <td>99.0</td>\n",
       "      <td>Action,Drama,Thriller</td>\n",
       "      <td>Yann Demange</td>\n",
       "      <td>RAtt.</td>\n",
       "      <td>1300000.0</td>\n",
       "      <td>355000</td>\n",
       "      <td>2015</td>\n",
       "    </tr>\n",
       "    <tr>\n",
       "      <th>1,000 Times Good Night</th>\n",
       "      <td>7.1</td>\n",
       "      <td>6848</td>\n",
       "      <td>2013</td>\n",
       "      <td>117.0</td>\n",
       "      <td>Drama,War</td>\n",
       "      <td>Erik Poppe</td>\n",
       "      <td>FM</td>\n",
       "      <td>53900.0</td>\n",
       "      <td>NaN</td>\n",
       "      <td>2014</td>\n",
       "    </tr>\n",
       "    <tr>\n",
       "      <th>10 Cloverfield Lane</th>\n",
       "      <td>7.2</td>\n",
       "      <td>260383</td>\n",
       "      <td>2016</td>\n",
       "      <td>103.0</td>\n",
       "      <td>Drama,Horror,Mystery</td>\n",
       "      <td>Dan Trachtenberg</td>\n",
       "      <td>Par.</td>\n",
       "      <td>72100000.0</td>\n",
       "      <td>38100000</td>\n",
       "      <td>2016</td>\n",
       "    </tr>\n",
       "    <tr>\n",
       "      <th>10 Years</th>\n",
       "      <td>6.1</td>\n",
       "      <td>22484</td>\n",
       "      <td>2011</td>\n",
       "      <td>100.0</td>\n",
       "      <td>Comedy,Drama,Romance</td>\n",
       "      <td>Jamie Linden</td>\n",
       "      <td>Anch.</td>\n",
       "      <td>203000.0</td>\n",
       "      <td>NaN</td>\n",
       "      <td>2012</td>\n",
       "    </tr>\n",
       "    <tr>\n",
       "      <th>1001 Grams</th>\n",
       "      <td>6.3</td>\n",
       "      <td>1301</td>\n",
       "      <td>2014</td>\n",
       "      <td>93.0</td>\n",
       "      <td>Drama</td>\n",
       "      <td>Bent Hamer</td>\n",
       "      <td>KL</td>\n",
       "      <td>11000.0</td>\n",
       "      <td>NaN</td>\n",
       "      <td>2015</td>\n",
       "    </tr>\n",
       "  </tbody>\n",
       "</table>\n",
       "</div>"
      ],
      "text/plain": [
       "                        averagerating  numvotes  start_year  runtime_minutes  \\\n",
       "primary_title                                                                  \n",
       "'71                               7.2     46103        2014             99.0   \n",
       "1,000 Times Good Night            7.1      6848        2013            117.0   \n",
       "10 Cloverfield Lane               7.2    260383        2016            103.0   \n",
       "10 Years                          6.1     22484        2011            100.0   \n",
       "1001 Grams                        6.3      1301        2014             93.0   \n",
       "\n",
       "                                       genres      primary_name studio  \\\n",
       "primary_title                                                            \n",
       "'71                     Action,Drama,Thriller      Yann Demange  RAtt.   \n",
       "1,000 Times Good Night              Drama,War        Erik Poppe     FM   \n",
       "10 Cloverfield Lane      Drama,Horror,Mystery  Dan Trachtenberg   Par.   \n",
       "10 Years                 Comedy,Drama,Romance      Jamie Linden  Anch.   \n",
       "1001 Grams                              Drama        Bent Hamer     KL   \n",
       "\n",
       "                        domestic_gross foreign_gross  year  \n",
       "primary_title                                               \n",
       "'71                          1300000.0        355000  2015  \n",
       "1,000 Times Good Night         53900.0           NaN  2014  \n",
       "10 Cloverfield Lane         72100000.0      38100000  2016  \n",
       "10 Years                      203000.0           NaN  2012  \n",
       "1001 Grams                     11000.0           NaN  2015  "
      ]
     },
     "execution_count": 717,
     "metadata": {},
     "output_type": "execute_result"
    }
   ],
   "source": [
    "#Join two dataframes to show relationships between movie names and their respective ratings\n",
    "ratings = title_ratings.join(title_basics, how='inner')\n",
    "\n",
    "#Joining two dataframes to show which people were writers for each movie\n",
    "crew = crew_id.join(crew_name, how='inner')\n",
    "crew = crew.drop('birth_year', axis=1)\n",
    "crew.set_index('tconst', inplace=True)\n",
    "\n",
    "#Joining the crew and ratings to create one dataframe showing all the information so far\n",
    "df = ratings.join(crew, how='inner')\n",
    "df.set_index('primary_title', inplace= True)\n",
    "df = df.drop(['original_title', 'primary_profession', 'known_for_titles', 'writers', 'death_year'], axis=1)\n",
    "\n",
    "#Joining the last dataframe to show each movie's domestic and foreign gross\n",
    "df2 = df.join(movie_gross, how='inner')\n",
    "df2.head()"
   ]
  },
  {
   "cell_type": "markdown",
   "metadata": {},
   "source": [
    "### Master Dataframes\n",
    "\n",
    "The last dataframe we have joined shows a summary of all the previous dataframes combined into one using the gross as the final join.\n",
    "\n",
    "The genre columns contains multiple entries which make it difficult to analyse the data. To remedy this, I have split the genres into their own columns in two different formats.\n",
    "\n",
    "The first master dataframe has each genre entry separated into three different columns for each movie."
   ]
  },
  {
   "cell_type": "code",
   "execution_count": 726,
   "metadata": {
    "scrolled": false
   },
   "outputs": [
    {
     "data": {
      "text/html": [
       "<div>\n",
       "<style scoped>\n",
       "    .dataframe tbody tr th:only-of-type {\n",
       "        vertical-align: middle;\n",
       "    }\n",
       "\n",
       "    .dataframe tbody tr th {\n",
       "        vertical-align: top;\n",
       "    }\n",
       "\n",
       "    .dataframe thead th {\n",
       "        text-align: right;\n",
       "    }\n",
       "</style>\n",
       "<table border=\"1\" class=\"dataframe\">\n",
       "  <thead>\n",
       "    <tr style=\"text-align: right;\">\n",
       "      <th></th>\n",
       "      <th>primary_title</th>\n",
       "      <th>averagerating</th>\n",
       "      <th>numvotes</th>\n",
       "      <th>start_year</th>\n",
       "      <th>runtime_minutes</th>\n",
       "      <th>primary_name</th>\n",
       "      <th>studio</th>\n",
       "      <th>domestic_gross</th>\n",
       "      <th>foreign_gross</th>\n",
       "      <th>year</th>\n",
       "      <th>genre_1</th>\n",
       "      <th>genre_2</th>\n",
       "      <th>genre_3</th>\n",
       "    </tr>\n",
       "  </thead>\n",
       "  <tbody>\n",
       "    <tr>\n",
       "      <th>0</th>\n",
       "      <td>'71</td>\n",
       "      <td>7.2</td>\n",
       "      <td>46103</td>\n",
       "      <td>2014</td>\n",
       "      <td>99.0</td>\n",
       "      <td>Yann Demange</td>\n",
       "      <td>RAtt.</td>\n",
       "      <td>1300000.0</td>\n",
       "      <td>355000</td>\n",
       "      <td>2015</td>\n",
       "      <td>Action</td>\n",
       "      <td>Drama</td>\n",
       "      <td>Thriller</td>\n",
       "    </tr>\n",
       "    <tr>\n",
       "      <th>1</th>\n",
       "      <td>1,000 Times Good Night</td>\n",
       "      <td>7.1</td>\n",
       "      <td>6848</td>\n",
       "      <td>2013</td>\n",
       "      <td>117.0</td>\n",
       "      <td>Erik Poppe</td>\n",
       "      <td>FM</td>\n",
       "      <td>53900.0</td>\n",
       "      <td>NaN</td>\n",
       "      <td>2014</td>\n",
       "      <td>Drama</td>\n",
       "      <td>War</td>\n",
       "      <td>None</td>\n",
       "    </tr>\n",
       "    <tr>\n",
       "      <th>2</th>\n",
       "      <td>10 Cloverfield Lane</td>\n",
       "      <td>7.2</td>\n",
       "      <td>260383</td>\n",
       "      <td>2016</td>\n",
       "      <td>103.0</td>\n",
       "      <td>Dan Trachtenberg</td>\n",
       "      <td>Par.</td>\n",
       "      <td>72100000.0</td>\n",
       "      <td>38100000</td>\n",
       "      <td>2016</td>\n",
       "      <td>Drama</td>\n",
       "      <td>Horror</td>\n",
       "      <td>Mystery</td>\n",
       "    </tr>\n",
       "    <tr>\n",
       "      <th>3</th>\n",
       "      <td>10 Years</td>\n",
       "      <td>6.1</td>\n",
       "      <td>22484</td>\n",
       "      <td>2011</td>\n",
       "      <td>100.0</td>\n",
       "      <td>Jamie Linden</td>\n",
       "      <td>Anch.</td>\n",
       "      <td>203000.0</td>\n",
       "      <td>NaN</td>\n",
       "      <td>2012</td>\n",
       "      <td>Comedy</td>\n",
       "      <td>Drama</td>\n",
       "      <td>Romance</td>\n",
       "    </tr>\n",
       "    <tr>\n",
       "      <th>4</th>\n",
       "      <td>1001 Grams</td>\n",
       "      <td>6.3</td>\n",
       "      <td>1301</td>\n",
       "      <td>2014</td>\n",
       "      <td>93.0</td>\n",
       "      <td>Bent Hamer</td>\n",
       "      <td>KL</td>\n",
       "      <td>11000.0</td>\n",
       "      <td>NaN</td>\n",
       "      <td>2015</td>\n",
       "      <td>Drama</td>\n",
       "      <td>None</td>\n",
       "      <td>None</td>\n",
       "    </tr>\n",
       "  </tbody>\n",
       "</table>\n",
       "</div>"
      ],
      "text/plain": [
       "            primary_title  averagerating  numvotes  start_year  \\\n",
       "0                     '71            7.2     46103        2014   \n",
       "1  1,000 Times Good Night            7.1      6848        2013   \n",
       "2     10 Cloverfield Lane            7.2    260383        2016   \n",
       "3                10 Years            6.1     22484        2011   \n",
       "4              1001 Grams            6.3      1301        2014   \n",
       "\n",
       "   runtime_minutes      primary_name studio  domestic_gross foreign_gross  \\\n",
       "0             99.0      Yann Demange  RAtt.       1300000.0        355000   \n",
       "1            117.0        Erik Poppe     FM         53900.0           NaN   \n",
       "2            103.0  Dan Trachtenberg   Par.      72100000.0      38100000   \n",
       "3            100.0      Jamie Linden  Anch.        203000.0           NaN   \n",
       "4             93.0        Bent Hamer     KL         11000.0           NaN   \n",
       "\n",
       "   year genre_1 genre_2   genre_3  \n",
       "0  2015  Action   Drama  Thriller  \n",
       "1  2014   Drama     War      None  \n",
       "2  2016   Drama  Horror   Mystery  \n",
       "3  2012  Comedy   Drama   Romance  \n",
       "4  2015   Drama    None      None  "
      ]
     },
     "execution_count": 726,
     "metadata": {},
     "output_type": "execute_result"
    }
   ],
   "source": [
    "df2[['genre_1', 'genre_2', 'genre_3']] = df2['genres'].str.split(',', expand=True)\n",
    "master_df = df2.drop(['genres'], axis=1)\n",
    "master_df = master_df.reset_index()\n",
    "master_df.head()"
   ]
  },
  {
   "cell_type": "code",
   "execution_count": 654,
   "metadata": {},
   "outputs": [],
   "source": [
    "master_df['foreign_gross'] = pd.to_numeric(master_df['foreign_gross'], errors ='coerce').astype('Float64')"
   ]
  },
  {
   "cell_type": "markdown",
   "metadata": {},
   "source": [
    "The second master dataframe compiled shows a reshaped data set with select columns that duplicates a movie entry based on it's genre. For example, 10 Cloverfield Lane has one entry with 3 different genres displayed over three different columns; this will instead be presented with 3 different entries for the same movie for each genre."
   ]
  },
  {
   "cell_type": "code",
   "execution_count": 722,
   "metadata": {},
   "outputs": [
    {
     "data": {
      "text/html": [
       "<div>\n",
       "<style scoped>\n",
       "    .dataframe tbody tr th:only-of-type {\n",
       "        vertical-align: middle;\n",
       "    }\n",
       "\n",
       "    .dataframe tbody tr th {\n",
       "        vertical-align: top;\n",
       "    }\n",
       "\n",
       "    .dataframe thead th {\n",
       "        text-align: right;\n",
       "    }\n",
       "</style>\n",
       "<table border=\"1\" class=\"dataframe\">\n",
       "  <thead>\n",
       "    <tr style=\"text-align: right;\">\n",
       "      <th></th>\n",
       "      <th>primary_title</th>\n",
       "      <th>averagerating</th>\n",
       "      <th>domestic_gross</th>\n",
       "      <th>foreign_gross</th>\n",
       "      <th>genre_1</th>\n",
       "      <th>genre_2</th>\n",
       "      <th>genre_3</th>\n",
       "    </tr>\n",
       "  </thead>\n",
       "  <tbody>\n",
       "    <tr>\n",
       "      <th>0</th>\n",
       "      <td>'71</td>\n",
       "      <td>7.2</td>\n",
       "      <td>1300000.0</td>\n",
       "      <td>355000</td>\n",
       "      <td>Action</td>\n",
       "      <td>Drama</td>\n",
       "      <td>Thriller</td>\n",
       "    </tr>\n",
       "    <tr>\n",
       "      <th>1</th>\n",
       "      <td>1,000 Times Good Night</td>\n",
       "      <td>7.1</td>\n",
       "      <td>53900.0</td>\n",
       "      <td>NaN</td>\n",
       "      <td>Drama</td>\n",
       "      <td>War</td>\n",
       "      <td>None</td>\n",
       "    </tr>\n",
       "    <tr>\n",
       "      <th>2</th>\n",
       "      <td>10 Cloverfield Lane</td>\n",
       "      <td>7.2</td>\n",
       "      <td>72100000.0</td>\n",
       "      <td>38100000</td>\n",
       "      <td>Drama</td>\n",
       "      <td>Horror</td>\n",
       "      <td>Mystery</td>\n",
       "    </tr>\n",
       "    <tr>\n",
       "      <th>3</th>\n",
       "      <td>10 Years</td>\n",
       "      <td>6.1</td>\n",
       "      <td>203000.0</td>\n",
       "      <td>NaN</td>\n",
       "      <td>Comedy</td>\n",
       "      <td>Drama</td>\n",
       "      <td>Romance</td>\n",
       "    </tr>\n",
       "    <tr>\n",
       "      <th>4</th>\n",
       "      <td>1001 Grams</td>\n",
       "      <td>6.3</td>\n",
       "      <td>11000.0</td>\n",
       "      <td>NaN</td>\n",
       "      <td>Drama</td>\n",
       "      <td>None</td>\n",
       "      <td>None</td>\n",
       "    </tr>\n",
       "  </tbody>\n",
       "</table>\n",
       "</div>"
      ],
      "text/plain": [
       "            primary_title  averagerating  domestic_gross foreign_gross  \\\n",
       "0                     '71            7.2       1300000.0        355000   \n",
       "1  1,000 Times Good Night            7.1         53900.0           NaN   \n",
       "2     10 Cloverfield Lane            7.2      72100000.0      38100000   \n",
       "3                10 Years            6.1        203000.0           NaN   \n",
       "4              1001 Grams            6.3         11000.0           NaN   \n",
       "\n",
       "  genre_1 genre_2   genre_3  \n",
       "0  Action   Drama  Thriller  \n",
       "1   Drama     War      None  \n",
       "2   Drama  Horror   Mystery  \n",
       "3  Comedy   Drama   Romance  \n",
       "4   Drama    None      None  "
      ]
     },
     "execution_count": 722,
     "metadata": {},
     "output_type": "execute_result"
    }
   ],
   "source": [
    "melted_columns = ['primary_title', 'averagerating', 'domestic_gross', 'foreign_gross', 'genre_1', 'genre_2', 'genre_3']\n",
    "melted_df = master_df[melted_columns]\n",
    "melted_df.head()"
   ]
  },
  {
   "cell_type": "code",
   "execution_count": 724,
   "metadata": {},
   "outputs": [
    {
     "data": {
      "text/html": [
       "<div>\n",
       "<style scoped>\n",
       "    .dataframe tbody tr th:only-of-type {\n",
       "        vertical-align: middle;\n",
       "    }\n",
       "\n",
       "    .dataframe tbody tr th {\n",
       "        vertical-align: top;\n",
       "    }\n",
       "\n",
       "    .dataframe thead th {\n",
       "        text-align: right;\n",
       "    }\n",
       "</style>\n",
       "<table border=\"1\" class=\"dataframe\">\n",
       "  <thead>\n",
       "    <tr style=\"text-align: right;\">\n",
       "      <th></th>\n",
       "      <th>primary_title</th>\n",
       "      <th>averagerating</th>\n",
       "      <th>foreign_gross</th>\n",
       "      <th>domestic_gross</th>\n",
       "      <th>variable</th>\n",
       "      <th>genre</th>\n",
       "    </tr>\n",
       "  </thead>\n",
       "  <tbody>\n",
       "    <tr>\n",
       "      <th>0</th>\n",
       "      <td>'71</td>\n",
       "      <td>7.2</td>\n",
       "      <td>355000</td>\n",
       "      <td>1300000.0</td>\n",
       "      <td>genre_1</td>\n",
       "      <td>Action</td>\n",
       "    </tr>\n",
       "    <tr>\n",
       "      <th>1</th>\n",
       "      <td>1,000 Times Good Night</td>\n",
       "      <td>7.1</td>\n",
       "      <td>NaN</td>\n",
       "      <td>53900.0</td>\n",
       "      <td>genre_1</td>\n",
       "      <td>Drama</td>\n",
       "    </tr>\n",
       "    <tr>\n",
       "      <th>2</th>\n",
       "      <td>10 Cloverfield Lane</td>\n",
       "      <td>7.2</td>\n",
       "      <td>38100000</td>\n",
       "      <td>72100000.0</td>\n",
       "      <td>genre_1</td>\n",
       "      <td>Drama</td>\n",
       "    </tr>\n",
       "    <tr>\n",
       "      <th>3</th>\n",
       "      <td>10 Years</td>\n",
       "      <td>6.1</td>\n",
       "      <td>NaN</td>\n",
       "      <td>203000.0</td>\n",
       "      <td>genre_1</td>\n",
       "      <td>Comedy</td>\n",
       "    </tr>\n",
       "    <tr>\n",
       "      <th>4</th>\n",
       "      <td>1001 Grams</td>\n",
       "      <td>6.3</td>\n",
       "      <td>NaN</td>\n",
       "      <td>11000.0</td>\n",
       "      <td>genre_1</td>\n",
       "      <td>Drama</td>\n",
       "    </tr>\n",
       "  </tbody>\n",
       "</table>\n",
       "</div>"
      ],
      "text/plain": [
       "            primary_title  averagerating foreign_gross  domestic_gross  \\\n",
       "0                     '71            7.2        355000       1300000.0   \n",
       "1  1,000 Times Good Night            7.1           NaN         53900.0   \n",
       "2     10 Cloverfield Lane            7.2      38100000      72100000.0   \n",
       "3                10 Years            6.1           NaN        203000.0   \n",
       "4              1001 Grams            6.3           NaN         11000.0   \n",
       "\n",
       "  variable   genre  \n",
       "0  genre_1  Action  \n",
       "1  genre_1   Drama  \n",
       "2  genre_1   Drama  \n",
       "3  genre_1  Comedy  \n",
       "4  genre_1   Drama  "
      ]
     },
     "execution_count": 724,
     "metadata": {},
     "output_type": "execute_result"
    }
   ],
   "source": [
    "master_df2 = pd.melt(melted_df, id_vars=['primary_title', 'averagerating', 'foreign_gross', 'domestic_gross'], \n",
    "                    value_vars=['genre_1', 'genre_2', 'genre_3'],\n",
    "                    value_name='genre')\n",
    "master_df2.head()"
   ]
  },
  {
   "cell_type": "markdown",
   "metadata": {},
   "source": [
    "## Analysis of ratings and gross by Genres\n",
    "\n",
    "As some movies have multiple genres, each genre has been separated into 3 new columns called genre_1, genre_2, and genre_3.\n",
    "The data from each column is then compiled into one to show the average ratings and gross figures per genre. This\n",
    "data is visualised in a bar graph."
   ]
  },
  {
   "cell_type": "markdown",
   "metadata": {},
   "source": [
    "### Ratings analysis by Genre"
   ]
  },
  {
   "cell_type": "code",
   "execution_count": 520,
   "metadata": {
    "scrolled": false
   },
   "outputs": [
    {
     "data": {
      "text/plain": [
       "Action          599.0\n",
       "Adventure       368.0\n",
       "Animation        92.0\n",
       "Biography       268.0\n",
       "Comedy          822.0\n",
       "Crime           363.0\n",
       "Documentary     173.0\n",
       "Drama          1660.0\n",
       "Family          102.0\n",
       "Fantasy         161.0\n",
       "History         129.0\n",
       "Horror          219.0\n",
       "Music            87.0\n",
       "Musical          17.0\n",
       "Mystery         190.0\n",
       "News              2.0\n",
       "Romance         448.0\n",
       "Sci-Fi          123.0\n",
       "Sport            46.0\n",
       "Thriller        430.0\n",
       "War              49.0\n",
       "Western          20.0\n",
       "Name: count, dtype: float64"
      ]
     },
     "execution_count": 520,
     "metadata": {},
     "output_type": "execute_result"
    }
   ],
   "source": [
    "genre_count = (master_df['genre_1'].value_counts()\n",
    "               .add(master_df['genre_2'].value_counts(), fill_value=0)\n",
    "               .add(master_df['genre_3'].value_counts(), fill_value=0)\n",
    "              )\n",
    "genre_count"
   ]
  },
  {
   "cell_type": "markdown",
   "metadata": {},
   "source": [
    "To avoid data being skewed, we will be excluding genres with less than 50 movie entries."
   ]
  },
  {
   "cell_type": "code",
   "execution_count": 413,
   "metadata": {},
   "outputs": [],
   "source": [
    "excluded_genres = 'Musical', 'News', 'Sport', 'War', 'Western'"
   ]
  },
  {
   "cell_type": "markdown",
   "metadata": {},
   "source": [
    "An average for each genre column is calculated so as to account for movies with multiple genres. All three datasets are compiled into one overall dataset, which we then apply the filter of excluded genres."
   ]
  },
  {
   "cell_type": "code",
   "execution_count": 625,
   "metadata": {},
   "outputs": [],
   "source": [
    "avg_genre_rating_1 = master_df.groupby('genre_1')['averagerating']"
   ]
  },
  {
   "cell_type": "code",
   "execution_count": 575,
   "metadata": {},
   "outputs": [
    {
     "data": {
      "text/html": [
       "<div>\n",
       "<style scoped>\n",
       "    .dataframe tbody tr th:only-of-type {\n",
       "        vertical-align: middle;\n",
       "    }\n",
       "\n",
       "    .dataframe tbody tr th {\n",
       "        vertical-align: top;\n",
       "    }\n",
       "\n",
       "    .dataframe thead th {\n",
       "        text-align: right;\n",
       "    }\n",
       "</style>\n",
       "<table border=\"1\" class=\"dataframe\">\n",
       "  <thead>\n",
       "    <tr style=\"text-align: right;\">\n",
       "      <th></th>\n",
       "      <th>genre</th>\n",
       "      <th>avg_rating</th>\n",
       "    </tr>\n",
       "  </thead>\n",
       "  <tbody>\n",
       "    <tr>\n",
       "      <th>0</th>\n",
       "      <td>Action</td>\n",
       "      <td>6.260935</td>\n",
       "    </tr>\n",
       "    <tr>\n",
       "      <th>1</th>\n",
       "      <td>Adventure</td>\n",
       "      <td>6.410221</td>\n",
       "    </tr>\n",
       "    <tr>\n",
       "      <th>2</th>\n",
       "      <td>Animation</td>\n",
       "      <td>6.760812</td>\n",
       "    </tr>\n",
       "    <tr>\n",
       "      <th>3</th>\n",
       "      <td>Biography</td>\n",
       "      <td>6.965604</td>\n",
       "    </tr>\n",
       "    <tr>\n",
       "      <th>4</th>\n",
       "      <td>Comedy</td>\n",
       "      <td>6.184966</td>\n",
       "    </tr>\n",
       "    <tr>\n",
       "      <th>5</th>\n",
       "      <td>Crime</td>\n",
       "      <td>6.387188</td>\n",
       "    </tr>\n",
       "    <tr>\n",
       "      <th>6</th>\n",
       "      <td>Documentary</td>\n",
       "      <td>7.407621</td>\n",
       "    </tr>\n",
       "    <tr>\n",
       "      <th>7</th>\n",
       "      <td>Drama</td>\n",
       "      <td>6.601468</td>\n",
       "    </tr>\n",
       "    <tr>\n",
       "      <th>8</th>\n",
       "      <td>Family</td>\n",
       "      <td>5.955606</td>\n",
       "    </tr>\n",
       "    <tr>\n",
       "      <th>9</th>\n",
       "      <td>Fantasy</td>\n",
       "      <td>6.226161</td>\n",
       "    </tr>\n",
       "    <tr>\n",
       "      <th>10</th>\n",
       "      <td>Horror</td>\n",
       "      <td>5.766747</td>\n",
       "    </tr>\n",
       "    <tr>\n",
       "      <th>11</th>\n",
       "      <td>Music</td>\n",
       "      <td>6.893023</td>\n",
       "    </tr>\n",
       "    <tr>\n",
       "      <th>12</th>\n",
       "      <td>Mystery</td>\n",
       "      <td>6.478914</td>\n",
       "    </tr>\n",
       "    <tr>\n",
       "      <th>13</th>\n",
       "      <td>Romance</td>\n",
       "      <td>6.243947</td>\n",
       "    </tr>\n",
       "    <tr>\n",
       "      <th>14</th>\n",
       "      <td>Sci-Fi</td>\n",
       "      <td>6.260459</td>\n",
       "    </tr>\n",
       "    <tr>\n",
       "      <th>15</th>\n",
       "      <td>Thriller</td>\n",
       "      <td>6.062392</td>\n",
       "    </tr>\n",
       "    <tr>\n",
       "      <th>16</th>\n",
       "      <td>History</td>\n",
       "      <td>6.931032</td>\n",
       "    </tr>\n",
       "  </tbody>\n",
       "</table>\n",
       "</div>"
      ],
      "text/plain": [
       "          genre  avg_rating\n",
       "0        Action    6.260935\n",
       "1     Adventure    6.410221\n",
       "2     Animation    6.760812\n",
       "3     Biography    6.965604\n",
       "4        Comedy    6.184966\n",
       "5         Crime    6.387188\n",
       "6   Documentary    7.407621\n",
       "7         Drama    6.601468\n",
       "8        Family    5.955606\n",
       "9       Fantasy    6.226161\n",
       "10       Horror    5.766747\n",
       "11        Music    6.893023\n",
       "12      Mystery    6.478914\n",
       "13      Romance    6.243947\n",
       "14       Sci-Fi    6.260459\n",
       "15     Thriller    6.062392\n",
       "16      History    6.931032"
      ]
     },
     "execution_count": 575,
     "metadata": {},
     "output_type": "execute_result"
    }
   ],
   "source": [
    "#Calculate the average rating per genre in each genre column\n",
    "avg_genre_rating_1 = master_df.groupby('genre_1')['averagerating'].mean().reset_index()\n",
    "avg_genre_rating_1 = avg_genre_rating_1.rename(columns = {'genre_1' : 'genre'})\n",
    "\n",
    "avg_genre_rating_2 = master_df.groupby('genre_2')['averagerating'].mean().reset_index()\n",
    "avg_genre_rating_2 = avg_genre_rating_2.rename(columns = {'genre_2' : 'genre'})\n",
    "\n",
    "avg_genre_rating_3 = master_df.groupby('genre_3')['averagerating'].mean().reset_index()\n",
    "avg_genre_rating_3 = avg_genre_rating_3.rename(columns = {'genre_3' : 'genre'})\n",
    "\n",
    "#Merge the columns to form one genre column that shows the combined average rating across each column\n",
    "merged_gen_1 = pd.merge(avg_genre_rating_1, avg_genre_rating_2, on= 'genre', how='outer')\n",
    "gen_rating = pd.merge(merged_gen_1, avg_genre_rating_3, on= 'genre', how='outer')\n",
    "gen_rating['avg_rating'] = gen_rating[['averagerating_x', 'averagerating_y', 'averagerating']].mean(axis=1)\n",
    "gen_rating = gen_rating.drop(['averagerating_x', 'averagerating_y', 'averagerating'], axis=1)\n",
    "\n",
    "#Filter out the excluded genres\n",
    "filtered_gen_rating = gen_rating[~gen_rating['genre'].isin(excluded_genres)]\n",
    "filtered_gen_rating"
   ]
  },
  {
   "cell_type": "markdown",
   "metadata": {},
   "source": [
    "The table above shows us an average rating for each genre type that contains more than 50 movies.\n",
    "\n",
    "To help visualise the data, a box and whisker plot was made to show spread and outliers for each genre as well. This will help analyse risk involved with a genre depending on how big the spread is."
   ]
  },
  {
   "cell_type": "code",
   "execution_count": 681,
   "metadata": {
    "scrolled": false
   },
   "outputs": [
    {
     "data": {
      "text/plain": [
       "<Figure size 1000x1000 with 0 Axes>"
      ]
     },
     "metadata": {},
     "output_type": "display_data"
    },
    {
     "data": {
      "image/png": "[encoded data removed]",
      "text/plain": [
       "<Figure size 640x480 with 1 Axes>"
      ]
     },
     "metadata": {},
     "output_type": "display_data"
    }
   ],
   "source": [
    "#Filter out excluded genres from the second master dataframe\n",
    "filtered_master_df2 = master_df2[~master_df2['genre'].isin(excluded_genres)]\n",
    "\n",
    "#Create a box and whisker plot average rating per genre\n",
    "plt.figure(figsize=(10, 10)) \n",
    "filtered_master_df2.boxplot(column='averagerating',\n",
    "                  by='genre',\n",
    "                  patch_artist=True)\n",
    "\n",
    "plt.xlabel('Genre')\n",
    "plt.ylabel('Average Rating')\n",
    "plt.title('Average Rating by Genre')\n",
    "\n",
    "plt.grid(axis='x', linestyle='--', alpha=0.6)\n",
    "plt.xticks(rotation='vertical')\n",
    "\n",
    "plt.show()"
   ]
  },
  {
   "cell_type": "markdown",
   "metadata": {},
   "source": [
    "As shown by the table and box and whisker plots, the highest rated genres with the least amount of spread appear to be biography, documentary, and history. Interestingly, non-fiction genres appear to be highly rated."
   ]
  },
  {
   "cell_type": "markdown",
   "metadata": {},
   "source": [
    "### Domestic Gross analysis by Genre\n",
    "The same process is done for domestic gross as well."
   ]
  },
  {
   "cell_type": "code",
   "execution_count": 576,
   "metadata": {},
   "outputs": [
    {
     "data": {
      "text/html": [
       "<div>\n",
       "<style scoped>\n",
       "    .dataframe tbody tr th:only-of-type {\n",
       "        vertical-align: middle;\n",
       "    }\n",
       "\n",
       "    .dataframe tbody tr th {\n",
       "        vertical-align: top;\n",
       "    }\n",
       "\n",
       "    .dataframe thead th {\n",
       "        text-align: right;\n",
       "    }\n",
       "</style>\n",
       "<table border=\"1\" class=\"dataframe\">\n",
       "  <thead>\n",
       "    <tr style=\"text-align: right;\">\n",
       "      <th></th>\n",
       "      <th>genre</th>\n",
       "      <th>avg_dom_gross</th>\n",
       "    </tr>\n",
       "  </thead>\n",
       "  <tbody>\n",
       "    <tr>\n",
       "      <th>0</th>\n",
       "      <td>Action</td>\n",
       "      <td>58309319</td>\n",
       "    </tr>\n",
       "    <tr>\n",
       "      <th>1</th>\n",
       "      <td>Adventure</td>\n",
       "      <td>86179323</td>\n",
       "    </tr>\n",
       "    <tr>\n",
       "      <th>2</th>\n",
       "      <td>Animation</td>\n",
       "      <td>63579388</td>\n",
       "    </tr>\n",
       "    <tr>\n",
       "      <th>3</th>\n",
       "      <td>Biography</td>\n",
       "      <td>34972932</td>\n",
       "    </tr>\n",
       "    <tr>\n",
       "      <th>4</th>\n",
       "      <td>Comedy</td>\n",
       "      <td>49417251</td>\n",
       "    </tr>\n",
       "    <tr>\n",
       "      <th>5</th>\n",
       "      <td>Crime</td>\n",
       "      <td>25823297</td>\n",
       "    </tr>\n",
       "    <tr>\n",
       "      <th>6</th>\n",
       "      <td>Documentary</td>\n",
       "      <td>7652402</td>\n",
       "    </tr>\n",
       "    <tr>\n",
       "      <th>7</th>\n",
       "      <td>Drama</td>\n",
       "      <td>17864764</td>\n",
       "    </tr>\n",
       "    <tr>\n",
       "      <th>8</th>\n",
       "      <td>Family</td>\n",
       "      <td>30666654</td>\n",
       "    </tr>\n",
       "    <tr>\n",
       "      <th>9</th>\n",
       "      <td>Fantasy</td>\n",
       "      <td>49762076</td>\n",
       "    </tr>\n",
       "    <tr>\n",
       "      <th>10</th>\n",
       "      <td>Horror</td>\n",
       "      <td>26865050</td>\n",
       "    </tr>\n",
       "    <tr>\n",
       "      <th>11</th>\n",
       "      <td>Music</td>\n",
       "      <td>12959691</td>\n",
       "    </tr>\n",
       "    <tr>\n",
       "      <th>12</th>\n",
       "      <td>Mystery</td>\n",
       "      <td>27221351</td>\n",
       "    </tr>\n",
       "    <tr>\n",
       "      <th>13</th>\n",
       "      <td>Romance</td>\n",
       "      <td>12655832</td>\n",
       "    </tr>\n",
       "    <tr>\n",
       "      <th>14</th>\n",
       "      <td>Sci-Fi</td>\n",
       "      <td>57625067</td>\n",
       "    </tr>\n",
       "    <tr>\n",
       "      <th>15</th>\n",
       "      <td>Thriller</td>\n",
       "      <td>26859113</td>\n",
       "    </tr>\n",
       "    <tr>\n",
       "      <th>16</th>\n",
       "      <td>History</td>\n",
       "      <td>16458205</td>\n",
       "    </tr>\n",
       "  </tbody>\n",
       "</table>\n",
       "</div>"
      ],
      "text/plain": [
       "          genre  avg_dom_gross\n",
       "0        Action       58309319\n",
       "1     Adventure       86179323\n",
       "2     Animation       63579388\n",
       "3     Biography       34972932\n",
       "4        Comedy       49417251\n",
       "5         Crime       25823297\n",
       "6   Documentary        7652402\n",
       "7         Drama       17864764\n",
       "8        Family       30666654\n",
       "9       Fantasy       49762076\n",
       "10       Horror       26865050\n",
       "11        Music       12959691\n",
       "12      Mystery       27221351\n",
       "13      Romance       12655832\n",
       "14       Sci-Fi       57625067\n",
       "15     Thriller       26859113\n",
       "16      History       16458205"
      ]
     },
     "execution_count": 576,
     "metadata": {},
     "output_type": "execute_result"
    }
   ],
   "source": [
    "#Calculate the average domestic gross per genre in each genre column\n",
    "avg_dom_gross_1 = master_df.groupby('genre_1')['domestic_gross'].mean().reset_index()\n",
    "avg_dom_gross_1 = avg_dom_gross_1.rename(columns = {'genre_1' : 'genre'})\n",
    "\n",
    "avg_dom_gross_2 = master_df.groupby('genre_2')['domestic_gross'].mean().reset_index()\n",
    "avg_dom_gross_2 = avg_dom_gross_2.rename(columns = {'genre_2' : 'genre'})\n",
    "\n",
    "avg_dom_gross_3 = master_df.groupby('genre_3')['domestic_gross'].mean().reset_index()\n",
    "avg_dom_gross_3 = avg_dom_gross_3.rename(columns = {'genre_3' : 'genre'})\n",
    "\n",
    "#Merge the columns to form one genre column that shows the combined domestic gross across each column\n",
    "merged_gross_1 = pd.merge(avg_dom_gross_1, avg_dom_gross_2, on= 'genre', how='outer')\n",
    "dom_gross = pd.merge(merged_gross_1, avg_dom_gross_3, on= 'genre', how='outer')\n",
    "dom_gross['avg_dom_gross'] = dom_gross[['domestic_gross_x', 'domestic_gross_y', 'domestic_gross']].mean(axis=1).astype(int)\n",
    "dom_gross = dom_gross.drop(['domestic_gross_x', 'domestic_gross_y', 'domestic_gross'], axis=1)\n",
    "\n",
    "#Filter out the excluded genres\n",
    "filtered_dom_gross = dom_gross[~gen_rating['genre'].isin(excluded_genres)]\n",
    "filtered_dom_gross"
   ]
  },
  {
   "cell_type": "code",
   "execution_count": 684,
   "metadata": {},
   "outputs": [
    {
     "data": {
      "text/plain": [
       "<Figure size 1000x1000 with 0 Axes>"
      ]
     },
     "metadata": {},
     "output_type": "display_data"
    },
    {
     "data": {
      "image/png": "[encoded data removed]",
      "text/plain": [
       "<Figure size 640x480 with 1 Axes>"
      ]
     },
     "metadata": {},
     "output_type": "display_data"
    }
   ],
   "source": [
    "#Create a box and whisker plot of domestic gross per genre\n",
    "plt.figure(figsize=(10, 10)) \n",
    "filtered_master_df2.boxplot(column='domestic_gross',\n",
    "                  by='genre',\n",
    "                  patch_artist=True)\n",
    "\n",
    "#Use a log transformation on the y axis due to the highly skewed data for a better representation\n",
    "plt.yscale('log')\n",
    "\n",
    "plt.xlabel('Genre')\n",
    "plt.ylabel('Domestic Gross')\n",
    "plt.title('Domestic Gross by Genre')\n",
    "\n",
    "plt.grid(axis='x', linestyle='--', alpha=0.6)\n",
    "plt.xticks(rotation='vertical')\n",
    "\n",
    "plt.show()"
   ]
  },
  {
   "cell_type": "markdown",
   "metadata": {},
   "source": [
    "As shown by the table and box and whisker plots, the highest grossing genres with the least amount of spread appear to adventure, animation and sci-fi."
   ]
  },
  {
   "cell_type": "markdown",
   "metadata": {},
   "source": [
    "### Factoring in Foreign Gross\n",
    "\n",
    "A large portion of the movies in the dataset do not have a foreign gross recorded.\n",
    "\n",
    "Number of listed movies"
   ]
  },
  {
   "cell_type": "code",
   "execution_count": 686,
   "metadata": {},
   "outputs": [
    {
     "data": {
      "text/plain": [
       "2749"
      ]
     },
     "execution_count": 686,
     "metadata": {},
     "output_type": "execute_result"
    }
   ],
   "source": [
    "master_df.shape[0]"
   ]
  },
  {
   "cell_type": "markdown",
   "metadata": {},
   "source": [
    "Number of listed movies without a foreign gross entry"
   ]
  },
  {
   "cell_type": "code",
   "execution_count": 685,
   "metadata": {},
   "outputs": [
    {
     "data": {
      "text/plain": [
       "1103"
      ]
     },
     "execution_count": 685,
     "metadata": {},
     "output_type": "execute_result"
    }
   ],
   "source": [
    "master_df['foreign_gross'].isna().sum()"
   ]
  },
  {
   "cell_type": "markdown",
   "metadata": {},
   "source": [
    "To account for the missing data, a linear regression will be used to see if domestic gross is a good predictor of foreign gross. We will first create a table containing only the domestic and foreign gross values."
   ]
  },
  {
   "cell_type": "code",
   "execution_count": 620,
   "metadata": {},
   "outputs": [
    {
     "data": {
      "text/html": [
       "<div>\n",
       "<style scoped>\n",
       "    .dataframe tbody tr th:only-of-type {\n",
       "        vertical-align: middle;\n",
       "    }\n",
       "\n",
       "    .dataframe tbody tr th {\n",
       "        vertical-align: top;\n",
       "    }\n",
       "\n",
       "    .dataframe thead th {\n",
       "        text-align: right;\n",
       "    }\n",
       "</style>\n",
       "<table border=\"1\" class=\"dataframe\">\n",
       "  <thead>\n",
       "    <tr style=\"text-align: right;\">\n",
       "      <th></th>\n",
       "      <th>domestic_gross</th>\n",
       "      <th>foreign_gross</th>\n",
       "    </tr>\n",
       "  </thead>\n",
       "  <tbody>\n",
       "    <tr>\n",
       "      <th>0</th>\n",
       "      <td>1300000</td>\n",
       "      <td>355000</td>\n",
       "    </tr>\n",
       "    <tr>\n",
       "      <th>2</th>\n",
       "      <td>72100000</td>\n",
       "      <td>38100000</td>\n",
       "    </tr>\n",
       "    <tr>\n",
       "      <th>5</th>\n",
       "      <td>1300000</td>\n",
       "      <td>10900000</td>\n",
       "    </tr>\n",
       "    <tr>\n",
       "      <th>6</th>\n",
       "      <td>32800</td>\n",
       "      <td>5700000</td>\n",
       "    </tr>\n",
       "    <tr>\n",
       "      <th>7</th>\n",
       "      <td>45800000</td>\n",
       "      <td>21600000</td>\n",
       "    </tr>\n",
       "    <tr>\n",
       "      <th>...</th>\n",
       "      <td>...</td>\n",
       "      <td>...</td>\n",
       "    </tr>\n",
       "    <tr>\n",
       "      <th>2734</th>\n",
       "      <td>5000000</td>\n",
       "      <td>353000000</td>\n",
       "    </tr>\n",
       "    <tr>\n",
       "      <th>2741</th>\n",
       "      <td>724000</td>\n",
       "      <td>20300000</td>\n",
       "    </tr>\n",
       "    <tr>\n",
       "      <th>2743</th>\n",
       "      <td>95700000</td>\n",
       "      <td>37100000</td>\n",
       "    </tr>\n",
       "    <tr>\n",
       "      <th>2747</th>\n",
       "      <td>80400000</td>\n",
       "      <td>89500000</td>\n",
       "    </tr>\n",
       "    <tr>\n",
       "      <th>2748</th>\n",
       "      <td>28800000</td>\n",
       "      <td>27900000</td>\n",
       "    </tr>\n",
       "  </tbody>\n",
       "</table>\n",
       "<p>1628 rows × 2 columns</p>\n",
       "</div>"
      ],
      "text/plain": [
       "      domestic_gross  foreign_gross\n",
       "0            1300000         355000\n",
       "2           72100000       38100000\n",
       "5            1300000       10900000\n",
       "6              32800        5700000\n",
       "7           45800000       21600000\n",
       "...              ...            ...\n",
       "2734         5000000      353000000\n",
       "2741          724000       20300000\n",
       "2743        95700000       37100000\n",
       "2747        80400000       89500000\n",
       "2748        28800000       27900000\n",
       "\n",
       "[1628 rows x 2 columns]"
      ]
     },
     "execution_count": 620,
     "metadata": {},
     "output_type": "execute_result"
    }
   ],
   "source": [
    "gross_columns = ['domestic_gross', 'foreign_gross']\n",
    "master_gross = master_df[gross_columns]\n",
    "master_gross = master_gross.dropna()\n",
    "master_gross['domestic_gross'] = master_gross['domestic_gross'].astype(int)\n",
    "master_gross['foreign_gross'] = master_gross['foreign_gross'].astype(int)\n",
    "master_gross"
   ]
  },
  {
   "cell_type": "markdown",
   "metadata": {},
   "source": [
    "These values are then visualised in a scatterplot. Due to a heavy skew towards lower values, a log transformation was done on the data for a better visualisation."
   ]
  },
  {
   "cell_type": "code",
   "execution_count": 677,
   "metadata": {
    "scrolled": false
   },
   "outputs": [
    {
     "data": {
      "image/png": "[encoded data removed]",
      "text/plain": [
       "<Figure size 640x480 with 1 Axes>"
      ]
     },
     "metadata": {},
     "output_type": "display_data"
    }
   ],
   "source": [
    "plt.scatter(master_gross['domestic_gross'], master_gross['foreign_gross'], color = 'blue')\n",
    "\n",
    "plt.xscale('log')\n",
    "plt.yscale('log')\n",
    "\n",
    "plt.xlabel('Domestic Gross')\n",
    "plt.ylabel('Foreign Gross')\n",
    "plt.title('Domestic gross against Foreign Gross')\n",
    "\n",
    "plt.show()"
   ]
  },
  {
   "cell_type": "markdown",
   "metadata": {},
   "source": [
    "Finally, a linear regression model is used to analyse the data points above to see how strong an indicator domestic gross is for foreign gross."
   ]
  },
  {
   "cell_type": "code",
   "execution_count": 611,
   "metadata": {},
   "outputs": [],
   "source": [
    "import statsmodels.api as sm"
   ]
  },
  {
   "cell_type": "code",
   "execution_count": 618,
   "metadata": {},
   "outputs": [
    {
     "name": "stdout",
     "output_type": "stream",
     "text": [
      "                            OLS Regression Results                            \n",
      "==============================================================================\n",
      "Dep. Variable:          foreign_gross   R-squared:                       0.665\n",
      "Model:                            OLS   Adj. R-squared:                  0.665\n",
      "Method:                 Least Squares   F-statistic:                     3230.\n",
      "Date:                Sun, 03 Mar 2024   Prob (F-statistic):               0.00\n",
      "Time:                        16:58:38   Log-Likelihood:                -31858.\n",
      "No. Observations:                1628   AIC:                         6.372e+04\n",
      "Df Residuals:                    1626   BIC:                         6.373e+04\n",
      "Df Model:                           1                                         \n",
      "Covariance Type:            nonrobust                                         \n",
      "==================================================================================\n",
      "                     coef    std err          t      P>|t|      [0.025      0.975]\n",
      "----------------------------------------------------------------------------------\n",
      "const           6.956e+06   2.24e+06      3.112      0.002    2.57e+06    1.13e+07\n",
      "domestic_gross     1.4676      0.026     56.831      0.000       1.417       1.518\n",
      "==============================================================================\n",
      "Omnibus:                     1030.085   Durbin-Watson:                   1.592\n",
      "Prob(Omnibus):                  0.000   Jarque-Bera (JB):            25171.393\n",
      "Skew:                           2.534   Prob(JB):                         0.00\n",
      "Kurtosis:                      21.585   Cond. No.                     1.02e+08\n",
      "==============================================================================\n",
      "\n",
      "Notes:\n",
      "[1] Standard Errors assume that the covariance matrix of the errors is correctly specified.\n",
      "[2] The condition number is large, 1.02e+08. This might indicate that there are\n",
      "strong multicollinearity or other numerical problems.\n"
     ]
    }
   ],
   "source": [
    "X= sm.add_constant(master_gross['domestic_gross'])\n",
    "y = master_gross['foreign_gross']\n",
    "\n",
    "model = sm.OLS(y, X).fit()\n",
    "\n",
    "print(model.summary())"
   ]
  },
  {
   "cell_type": "markdown",
   "metadata": {},
   "source": [
    "With an R-squared value of 0.665, we can conclude that there is a relatively high level of correlation. This is further validated with a p-value of less than 0.05 for domestic gross. Thus, we can conclude that domestic gross can be used as a strong predictor of foreign gross."
   ]
  },
  {
   "cell_type": "markdown",
   "metadata": {},
   "source": [
    "### Do ratings predict gross? \n",
    "\n",
    "It is apparent that the recommendations based on ratings and gross are conflicting. To get a more concrete recommendation for genres that perform well, a linear regression model will also be used to analyse if ratings are a good predictor of domestic gross. "
   ]
  },
  {
   "cell_type": "code",
   "execution_count": 703,
   "metadata": {},
   "outputs": [],
   "source": [
    "gross_rating_columns = ['averagerating', 'domestic_gross']\n",
    "gross_rating = filtered_master_df2[gross_rating_columns]\n",
    "gross_rating = gross_rating.dropna()\n",
    "gross_rating['domestic_gross'] = gross_rating['domestic_gross'].astype(int)"
   ]
  },
  {
   "cell_type": "code",
   "execution_count": 709,
   "metadata": {},
   "outputs": [
    {
     "data": {
      "image/png": "[encoded data removed]",
      "text/plain": [
       "<Figure size 1500x1000 with 1 Axes>"
      ]
     },
     "metadata": {},
     "output_type": "display_data"
    }
   ],
   "source": [
    "plt.figure(figsize=(15, 10))\n",
    "\n",
    "plt.scatter(gross_rating['averagerating'], gross_rating['domestic_gross'], color = 'blue')\n",
    "\n",
    "plt.xscale('log')\n",
    "plt.yscale('log')\n",
    "\n",
    "plt.xlabel('Average Rating')\n",
    "plt.ylabel('Domestic Gross')\n",
    "plt.title('Average Rating against Domestic Gross')\n",
    "\n",
    "plt.show()"
   ]
  },
  {
   "cell_type": "code",
   "execution_count": 705,
   "metadata": {},
   "outputs": [
    {
     "name": "stdout",
     "output_type": "stream",
     "text": [
      "                            OLS Regression Results                            \n",
      "==============================================================================\n",
      "Dep. Variable:         domestic_gross   R-squared:                       0.014\n",
      "Model:                            OLS   Adj. R-squared:                  0.014\n",
      "Method:                 Least Squares   F-statistic:                     111.5\n",
      "Date:                Sun, 03 Mar 2024   Prob (F-statistic):           6.66e-26\n",
      "Time:                        19:28:17   Log-Likelihood:            -1.5604e+05\n",
      "No. Observations:                8059   AIC:                         3.121e+05\n",
      "Df Residuals:                    8057   BIC:                         3.121e+05\n",
      "Df Model:                           1                                         \n",
      "Covariance Type:            nonrobust                                         \n",
      "=================================================================================\n",
      "                    coef    std err          t      P>|t|      [0.025      0.975]\n",
      "---------------------------------------------------------------------------------\n",
      "const          -1.84e+07   4.52e+06     -4.072      0.000   -2.73e+07   -9.54e+06\n",
      "averagerating  7.321e+06   6.93e+05     10.561      0.000    5.96e+06    8.68e+06\n",
      "==============================================================================\n",
      "Omnibus:                     7080.715   Durbin-Watson:                   1.476\n",
      "Prob(Omnibus):                  0.000   Jarque-Bera (JB):           237448.043\n",
      "Skew:                           4.199   Prob(JB):                         0.00\n",
      "Kurtosis:                      28.231   Cond. No.                         43.6\n",
      "==============================================================================\n",
      "\n",
      "Notes:\n",
      "[1] Standard Errors assume that the covariance matrix of the errors is correctly specified.\n"
     ]
    }
   ],
   "source": [
    "X= sm.add_constant(gross_rating['averagerating'])\n",
    "y = gross_rating['domestic_gross']\n",
    "\n",
    "model = sm.OLS(y, X).fit()\n",
    "\n",
    "print(model.summary())"
   ]
  },
  {
   "cell_type": "markdown",
   "metadata": {},
   "source": [
    "Given the regression results, it can be said that ratings have a statistically significant impact on domestic gross with a p-value<0.05. However, the calcualted R-squared value of 0.014 suggests that it only accounts for 1.4% of the variability displayed by domestic gross. Due to this, it cannot be concluded that ratings are a strong predictor of domestic gross."
   ]
  },
  {
   "cell_type": "markdown",
   "metadata": {},
   "source": [
    "## Conclusions\n",
    "\n",
    "### Main takeaways\n",
    "To determine which genres are highly successful, an analysis of movies with a rating and domestic gross entry was done. This leads to the following recommendations:\n",
    "* **Non-fiction genres perform well in the ratings category.** The best performing genres according to ratings are documentary, biography, and history.\n",
    "* **Mainstream genres generate higher domestic gross.** The highest grossing movie genres domestically are adventure, animation and sci-fi\n",
    "* **Domestic gross predicts foreign gross.** Domestic gross is a good predictor of how a movie will perform internationally.\n",
    "* **High ratings indicate a high gross, but does not predict it.** Ratings only account for 1.4% of the variability in gross.\n",
    "\n",
    "### Next steps\n",
    "* **Depending on what Microsoft values, the model could be used to determine the best variables for making a movie.** For example, giving weighted values for genre and rating will generate a metric that can be used to then determine best director, runtime, etc."
   ]
  }
 ],
 "metadata": {
  "kernelspec": {
   "display_name": "Python 3 (ipykernel)",
   "language": "python",
   "name": "python3"
  },
  "language_info": {
   "codemirror_mode": {
    "name": "ipython",
    "version": 3
   },
   "file_extension": ".py",
   "mimetype": "text/x-python",
   "name": "python",
   "nbconvert_exporter": "python",
   "pygments_lexer": "ipython3",
   "version": "3.11.5"
  }
 },
 "nbformat": 4,
 "nbformat_minor": 4
}
